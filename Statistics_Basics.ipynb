{
  "nbformat": 4,
  "nbformat_minor": 0,
  "metadata": {
    "colab": {
      "provenance": []
    },
    "kernelspec": {
      "name": "python3",
      "display_name": "Python 3"
    },
    "language_info": {
      "name": "python"
    }
  },
  "cells": [
    {
      "cell_type": "markdown",
      "source": [
        "#**Theory Questions**"
      ],
      "metadata": {
        "id": "kU4gSuinqcnw"
      }
    },
    {
      "cell_type": "markdown",
      "source": [
        "##1. What is statistics, and why is it important?\n",
        "Statistics is the science of collecting, organizing, analyzing, interpreting, and presenting data. It enables us to understand patterns, trends, and relationships in data to make informed decisions. Statistics is vital in almost every field—medicine, business, social science, technology—because it provides a mathematical foundation for analyzing uncertainty and making predictions based on empirical data.\n",
        "\n",
        "##2. What are the two main types of statistics?\n",
        "The two main types of statistics are descriptive and inferential.\n",
        "\n",
        "- Descriptive statistics summarize and describe features of a dataset (e.g., mean, median).\n",
        "\n",
        "- Inferential statistics use a sample to make predictions or generalizations about a population.\n",
        "Together, they help in understanding both raw data and drawing meaningful conclusions from it.\n",
        "\n",
        "#3. What are descriptive statistics?\n",
        "Descriptive statistics involve methods to summarize and present data in a meaningful way. This includes measures like mean, median, mode (central tendency), and range, variance, standard deviation (dispersion). Charts and graphs (like histograms or pie charts) are also part of descriptive statistics. They do not involve generalizing beyond the data, but rather give a clear picture of what's in the dataset.\n",
        "\n",
        "##4. What is inferential statistics?\n",
        "Inferential statistics make predictions or inferences about a population based on data collected from a sample. It uses probability theory to test hypotheses, estimate population parameters, and evaluate relationships between variables. Examples include confidence intervals, hypothesis testing, and regression analysis. It allows researchers to draw conclusions that go beyond the immediate data.\n",
        "\n",
        "##5. What is sampling in statistics?\n",
        "Sampling is the process of selecting a subset (sample) from a larger group (population) to analyze characteristics or trends. Instead of studying the entire population (which can be time-consuming or impractical), a representative sample is used to draw conclusions. Proper sampling ensures results are accurate, reliable, and applicable to the population.\n",
        "\n",
        "##6. What are the different types of sampling methods?\n",
        "Sampling methods are mainly divided into:\n",
        "\n",
        "- Random Sampling (e.g., simple random, stratified, cluster): Every member has a known chance of being selected.\n",
        "\n",
        "- Non-random Sampling (e.g., convenience, judgmental, quota): Selection is based on factors like accessibility or researcher judgment.\n",
        "Random methods reduce bias, while non-random methods are easier but more prone to inaccuracies.\n",
        "\n",
        "##7. What is the difference between random and non-random sampling?\n",
        "\n",
        "Random sampling ensures every individual in the population has an equal and known chance of being selected. It minimizes bias and leads to statistically valid results.\n",
        "\n",
        "Non-random sampling does not follow this principle and may rely on judgment or convenience. While easier and faster, it can introduce selection bias and affect the generalizability of findings.\n",
        "\n",
        "##8. Define and give examples of qualitative and quantitative data.\n",
        "\n",
        "Qualitative data (categorical) represents characteristics or labels, e.g., gender, color, nationality. It’s non-numerical.\n",
        "\n",
        "Quantitative data represents numerical values, e.g., height, weight, salary. It can be further divided into discrete (countable values like number of children) and continuous (measurable values like temperature).\n",
        "\n",
        "##9. What are the different types of data in statistics?\n",
        "Data types in statistics include:\n",
        "\n",
        "Qualitative: Nominal and ordinal data (e.g., colors, rankings)\n",
        "\n",
        "Quantitative: Discrete and continuous data (e.g., counts, measurements)\n",
        "Understanding data types is crucial for choosing the right statistical method and visualization. It affects how we calculate central tendency, dispersion, and apply inferential techniques.\n",
        "\n",
        "##10. Explain nominal, ordinal, interval, and ratio levels of measurement.\n",
        "\n",
        "Nominal: Categories without order (e.g., gender, color)\n",
        "\n",
        "Ordinal: Ordered categories (e.g., rankings, satisfaction level)\n",
        "\n",
        "Interval: Ordered, equal intervals, but no true zero (e.g., temperature in Celsius)\n",
        "\n",
        "Ratio: Like interval, but with a meaningful zero (e.g., height, age, weight)\n",
        "These levels determine the appropriate statistical tests and operations.\n",
        "\n",
        "##11. What is the measure of central tendency?\n",
        "Central tendency refers to the statistical measures that identify the center or typical value in a dataset. The main measures are mean, median, and mode. They help summarize large amounts of data with a single value that represents the entire distribution, providing insight into the dataset's general behavior.\n",
        "\n",
        "##12. Define mean, median, and mode.\n",
        "\n",
        "Mean: The average, found by dividing the sum of values by the number of values.\n",
        "\n",
        "Median: The middle value when data is arranged in order.\n",
        "\n",
        "Mode: The most frequently occurring value in a dataset.\n",
        "Each offers a different perspective of central tendency and is used depending on the data type and distribution.\n",
        "\n",
        "##13. What is the significance of the measure of central tendency?\n",
        "Measures of central tendency give a single value that summarizes an entire dataset, helping in comparison and understanding data. They are useful for identifying normal values, detecting outliers, and making informed decisions. Depending on data skewness and distribution, one measure may be more appropriate than others.\n",
        "\n",
        "##14. What is variance, and how is it calculated?\n",
        "Variance measures how spread out data values are from the mean. It’s calculated by finding the average of squared differences from the mean. For a sample, it’s:\n",
        "\n",
        "Variance\n",
        "=\n",
        "∑\n",
        "(\n",
        "𝑥\n",
        "𝑖\n",
        "−\n",
        "𝑥\n",
        "ˉ\n",
        ")\n",
        "2\n",
        "𝑛\n",
        "−\n",
        "1\n",
        "Variance=\n",
        "n−1\n",
        "∑(x\n",
        "i\n",
        "​\n",
        " −\n",
        "x\n",
        "ˉ\n",
        " )\n",
        "2\n",
        "\n",
        "​\n",
        "\n",
        "High variance indicates widely spread data; low variance shows consistency around the mean.\n",
        "\n",
        "##15. What is standard deviation, and why is it important?\n",
        "Standard deviation is the square root of variance and measures the average deviation of values from the mean. It’s expressed in the same units as the data, making it easier to interpret. A low standard deviation means data points are close to the mean, while a high value suggests greater spread and variability.\n",
        "\n",
        "##16. Define and explain the term range in statistics.\n",
        "Range is the difference between the highest and lowest values in a dataset. It provides a quick sense of the data spread.\n",
        "\n",
        "Range\n",
        "=\n",
        "Max\n",
        "−\n",
        "Min\n",
        "Range=Max−Min\n",
        "\n",
        "Though easy to compute, it is highly sensitive to outliers and does not reflect variability within the dataset as well as variance or standard deviation.\n",
        "\n",
        "##17. What is the difference between variance and standard deviation?\n",
        "Both measure dispersion:\n",
        "\n",
        "Variance gives the average squared deviation from the mean.\n",
        "\n",
        "Standard deviation is the square root of variance, offering a more intuitive understanding since it’s in the original data units.\n",
        "While variance is useful for theoretical work, standard deviation is often preferred for practical interpretation.\n",
        "\n",
        "##18. What is skewness in a dataset?\n",
        "Skewness measures the asymmetry of a data distribution. A perfectly symmetrical distribution has zero skewness.\n",
        "\n",
        "Positive skew: tail on the right side\n",
        "\n",
        "Negative skew: tail on the left side\n",
        "Skewness helps in choosing the correct measures of central tendency and statistical models for the data.\n",
        "\n",
        "##19. What does it mean if a dataset is positively or negatively skewed?\n",
        "\n",
        "Positively skewed: Most values are concentrated on the left; mean > median > mode.\n",
        "\n",
        "Negatively skewed: Most values are on the right; mean < median < mode.\n",
        "Skewed distributions affect how we summarize data and which statistical tests are appropriate.\n",
        "\n",
        "##20. Define and explain kurtosis.\n",
        "Kurtosis measures the \"tailedness\" of a distribution—how peaked or flat it is compared to a normal distribution.\n",
        "\n",
        "High kurtosis (leptokurtic): heavy tails, more outliers\n",
        "\n",
        "Low kurtosis (platykurtic): light tails, fewer outliers\n",
        "\n",
        "Normal kurtosis (mesokurtic): similar to normal distribution\n",
        "Kurtosis helps assess risk or outlier-proneness in data.\n",
        "\n",
        "##21. What is the purpose of covariance?\n",
        "Covariance measures how two variables change together. A positive covariance means they increase or decrease together, while a negative covariance indicates one increases as the other decreases. It helps in understanding relationships between variables, though it doesn’t standardize the strength of the relationship (that’s what correlation does).\n",
        "\n",
        "##22. What does correlation measure in statistics?\n",
        "Correlation quantifies the strength and direction of a linear relationship between two variables, typically ranging from -1 to +1.\n",
        "\n",
        "+1: perfect positive relationship\n",
        "\n",
        "0: no relationship\n",
        "\n",
        "-1: perfect negative relationship\n",
        "It is used in regression analysis, finance, and science to find associations between variables.\n",
        "\n",
        "##23. What is the difference between covariance and correlation?\n",
        "\n",
        "Covariance shows the direction of a relationship but is unscaled and affected by units.\n",
        "\n",
        "Correlation standardizes covariance to a range between -1 and +1, making it easier to interpret and compare across datasets.\n",
        "Correlation is used more frequently when assessing the strength of relationships.\n",
        "\n",
        "##24. What are some real-world applications of statistics?\n",
        "Statistics is applied in:\n",
        "\n",
        "Healthcare: clinical trials, drug efficacy\n",
        "\n",
        "Business: market research, quality control\n",
        "\n",
        "Economics: forecasting trends\n",
        "\n",
        "Education: evaluating student performance\n",
        "\n",
        "Sports: player stats and performance analysis\n",
        "\n",
        "Government: census and policy planning\n",
        "Its ability to extract insights from data makes it foundational in decision-making and strategy."
      ],
      "metadata": {
        "id": "k5xXJdEtqaRu"
      }
    },
    {
      "cell_type": "markdown",
      "source": [
        "#**Practical Questions**"
      ],
      "metadata": {
        "id": "sUVZ3GaEtl5j"
      }
    },
    {
      "cell_type": "code",
      "source": [
        "#1. Calculate Mean, Median, and Mode\n",
        "\n",
        "import statistics\n",
        "\n",
        "data = [10, 20, 20, 30, 40, 40, 40, 50]\n",
        "\n",
        "mean = statistics.mean(data)\n",
        "median = statistics.median(data)\n",
        "mode = statistics.mode(data)\n",
        "\n",
        "print(\"Mean:\", mean)\n",
        "print(\"Median:\", median)\n",
        "print(\"Mode:\", mode)"
      ],
      "metadata": {
        "colab": {
          "base_uri": "https://localhost:8080/"
        },
        "id": "QMZSUB2ru_5k",
        "outputId": "d4448dc9-7b08-409a-ee87-b11fdbaff9fc"
      },
      "execution_count": 1,
      "outputs": [
        {
          "output_type": "stream",
          "name": "stdout",
          "text": [
            "Mean: 31.25\n",
            "Median: 35.0\n",
            "Mode: 40\n"
          ]
        }
      ]
    },
    {
      "cell_type": "code",
      "source": [
        "#2. Compute Variance and Standard Deviation\n",
        "\n",
        "import statistics\n",
        "\n",
        "data = [10, 20, 20, 30, 40, 40, 40, 50]\n",
        "\n",
        "variance = statistics.variance(data)\n",
        "std_dev = statistics.stdev(data)\n",
        "\n",
        "print(\"Variance:\", variance)\n",
        "print(\"Standard Deviation:\", std_dev)"
      ],
      "metadata": {
        "colab": {
          "base_uri": "https://localhost:8080/"
        },
        "id": "XyMm16XbvFYk",
        "outputId": "503b88c0-4f0e-49b1-9add-fb9c8db35107"
      },
      "execution_count": 2,
      "outputs": [
        {
          "output_type": "stream",
          "name": "stdout",
          "text": [
            "Variance: 183.92857142857142\n",
            "Standard Deviation: 13.562026818605375\n"
          ]
        }
      ]
    },
    {
      "cell_type": "code",
      "source": [
        "#3. Classify Data Types\n",
        "\n",
        "nominal = [\"red\", \"blue\", \"green\"]\n",
        "ordinal = [\"low\", \"medium\", \"high\"]\n",
        "interval = [10, 20, 30]  # No true zero\n",
        "ratio = [1, 2, 3, 4]     # Has true zero\n",
        "\n",
        "print(\"Nominal:\", nominal)\n",
        "print(\"Ordinal:\", ordinal)\n",
        "print(\"Interval:\", interval)\n",
        "print(\"Ratio:\", ratio)\n"
      ],
      "metadata": {
        "colab": {
          "base_uri": "https://localhost:8080/"
        },
        "id": "dKVQsPc1vFV-",
        "outputId": "6e09cf17-aa15-44f6-f083-131d9dc85051"
      },
      "execution_count": 3,
      "outputs": [
        {
          "output_type": "stream",
          "name": "stdout",
          "text": [
            "Nominal: ['red', 'blue', 'green']\n",
            "Ordinal: ['low', 'medium', 'high']\n",
            "Interval: [10, 20, 30]\n",
            "Ratio: [1, 2, 3, 4]\n"
          ]
        }
      ]
    },
    {
      "cell_type": "code",
      "source": [
        "#4. Random and Stratified Sampling\n",
        "\n",
        "import pandas as pd\n",
        "from sklearn.model_selection import train_test_split\n",
        "\n",
        "df = pd.DataFrame({\n",
        "    'Gender': ['M', 'F'] * 50,\n",
        "    'Score': range(100)\n",
        "})\n",
        "\n",
        "# Random sampling\n",
        "random_sample = df.sample(n=10)\n",
        "\n",
        "# Stratified sampling\n",
        "stratified_sample = df.groupby('Gender', group_keys=False).apply(lambda x: x.sample(5))\n",
        "\n",
        "print(\"Random Sample:\\n\", random_sample)\n",
        "print(\"\\nStratified Sample:\\n\", stratified_sample)\n"
      ],
      "metadata": {
        "colab": {
          "base_uri": "https://localhost:8080/"
        },
        "id": "-S1nyN_YvFTU",
        "outputId": "2c63b802-9caa-4f63-d96b-1166453f63d3"
      },
      "execution_count": 4,
      "outputs": [
        {
          "output_type": "stream",
          "name": "stdout",
          "text": [
            "Random Sample:\n",
            "    Gender  Score\n",
            "89      F     89\n",
            "34      M     34\n",
            "61      F     61\n",
            "67      F     67\n",
            "86      M     86\n",
            "52      M     52\n",
            "65      F     65\n",
            "69      F     69\n",
            "33      F     33\n",
            "98      M     98\n",
            "\n",
            "Stratified Sample:\n",
            "    Gender  Score\n",
            "3       F      3\n",
            "45      F     45\n",
            "53      F     53\n",
            "41      F     41\n",
            "1       F      1\n",
            "80      M     80\n",
            "98      M     98\n",
            "54      M     54\n",
            "4       M      4\n",
            "88      M     88\n"
          ]
        },
        {
          "output_type": "stream",
          "name": "stderr",
          "text": [
            "<ipython-input-4-da4a5066b9ee>:15: DeprecationWarning: DataFrameGroupBy.apply operated on the grouping columns. This behavior is deprecated, and in a future version of pandas the grouping columns will be excluded from the operation. Either pass `include_groups=False` to exclude the groupings or explicitly select the grouping columns after groupby to silence this warning.\n",
            "  stratified_sample = df.groupby('Gender', group_keys=False).apply(lambda x: x.sample(5))\n"
          ]
        }
      ]
    },
    {
      "cell_type": "code",
      "source": [
        "#5. Calculate Range\n",
        "\n",
        "def data_range(data):\n",
        "    return max(data) - min(data)\n",
        "\n",
        "dataset = [12, 18, 25, 7, 30]\n",
        "print(\"Range:\", data_range(dataset))\n"
      ],
      "metadata": {
        "colab": {
          "base_uri": "https://localhost:8080/"
        },
        "id": "numeR93GvFQk",
        "outputId": "24d3a243-f5fd-4089-cee1-05b45226de05"
      },
      "execution_count": 5,
      "outputs": [
        {
          "output_type": "stream",
          "name": "stdout",
          "text": [
            "Range: 23\n"
          ]
        }
      ]
    },
    {
      "cell_type": "code",
      "source": [
        "#6. Plot Histogram to Visualize Skewness\n",
        "\n",
        "import matplotlib.pyplot as plt\n",
        "\n",
        "data = [1, 2, 2, 3, 4, 10, 20, 30]\n",
        "plt.hist(data, bins=10, color='skyblue', edgecolor='black')\n",
        "plt.title(\"Histogram to Visualize Skewness\")\n",
        "plt.show()"
      ],
      "metadata": {
        "colab": {
          "base_uri": "https://localhost:8080/",
          "height": 452
        },
        "id": "j_0nMKChvFN4",
        "outputId": "d87f286c-2858-4c9a-fb62-23c19f531c34"
      },
      "execution_count": 6,
      "outputs": [
        {
          "output_type": "display_data",
          "data": {
            "text/plain": [
              "<Figure size 640x480 with 1 Axes>"
            ],
            "image/png": "[encoded data removed]"
          },
          "metadata": {}
        }
      ]
    },
    {
      "cell_type": "code",
      "source": [
        "#7. Calculate Skewness and Kurtosis\n",
        "\n",
        "from scipy.stats import skew, kurtosis\n",
        "\n",
        "data = [2, 3, 5, 8, 13, 21, 34]\n",
        "\n",
        "print(\"Skewness:\", skew(data))\n",
        "print(\"Kurtosis:\", kurtosis(data))\n"
      ],
      "metadata": {
        "colab": {
          "base_uri": "https://localhost:8080/"
        },
        "id": "IQBiwEfSvFK2",
        "outputId": "f491984e-69d2-4889-efa7-427b4a939908"
      },
      "execution_count": 7,
      "outputs": [
        {
          "output_type": "stream",
          "name": "stdout",
          "text": [
            "Skewness: 0.97825721216858\n",
            "Kurtosis: -0.34347562487601646\n"
          ]
        }
      ]
    },
    {
      "cell_type": "code",
      "source": [
        "#8. Demonstrate Positive and Negative Skewness\n",
        "\n",
        "import numpy as np\n",
        "import matplotlib.pyplot as plt\n",
        "\n",
        "# Positive skew\n",
        "data_pos = np.random.exponential(scale=2, size=1000)\n",
        "# Negative skew (multiply by -1)\n",
        "data_neg = -1 * np.random.exponential(scale=2, size=1000)\n",
        "\n",
        "fig, ax = plt.subplots(1, 2, figsize=(12, 5))\n",
        "ax[0].hist(data_pos, bins=30, color='orange')\n",
        "ax[0].set_title(\"Positive Skew\")\n",
        "ax[1].hist(data_neg, bins=30, color='blue')\n",
        "ax[1].set_title(\"Negative Skew\")\n",
        "plt.show()\n"
      ],
      "metadata": {
        "colab": {
          "base_uri": "https://localhost:8080/",
          "height": 468
        },
        "id": "rvevDpvovFHv",
        "outputId": "2371fbba-3861-4876-fef0-cd75a2756a4b"
      },
      "execution_count": 8,
      "outputs": [
        {
          "output_type": "display_data",
          "data": {
            "text/plain": [
              "<Figure size 1200x500 with 2 Axes>"
            ],
            "image/png": "[encoded data removed]"
          },
          "metadata": {}
        }
      ]
    },
    {
      "cell_type": "code",
      "source": [
        "#9. Calculate Covariance Between Two Datasets\n",
        "\n",
        "import numpy as np\n",
        "\n",
        "x = np.array([1, 2, 3, 4, 5])\n",
        "y = np.array([2, 4, 6, 8, 10])\n",
        "\n",
        "cov_matrix = np.cov(x, y)\n",
        "print(\"Covariance:\\n\", cov_matrix)\n"
      ],
      "metadata": {
        "colab": {
          "base_uri": "https://localhost:8080/"
        },
        "id": "CdxQormYvFEw",
        "outputId": "5b5fc391-76b7-4274-9a68-9b811478abbd"
      },
      "execution_count": 9,
      "outputs": [
        {
          "output_type": "stream",
          "name": "stdout",
          "text": [
            "Covariance:\n",
            " [[ 2.5  5. ]\n",
            " [ 5.  10. ]]\n"
          ]
        }
      ]
    },
    {
      "cell_type": "code",
      "source": [
        "#10. Correlation Coefficient\n",
        "\n",
        "import numpy as np\n",
        "\n",
        "x = np.array([1, 3, 5, 7])\n",
        "y = np.array([2, 4, 6, 8])\n",
        "\n",
        "correlation = np.corrcoef(x, y)\n",
        "print(\"Correlation Coefficient:\\n\", correlation)\n"
      ],
      "metadata": {
        "colab": {
          "base_uri": "https://localhost:8080/"
        },
        "id": "gHHnf5XOvFB_",
        "outputId": "6fe95938-7ba1-435d-8e90-f13fbc808cce"
      },
      "execution_count": 10,
      "outputs": [
        {
          "output_type": "stream",
          "name": "stdout",
          "text": [
            "Correlation Coefficient:\n",
            " [[1. 1.]\n",
            " [1. 1.]]\n"
          ]
        }
      ]
    },
    {
      "cell_type": "code",
      "source": [
        "#11. Scatter Plot for Two Variables\n",
        "\n",
        "import matplotlib.pyplot as plt\n",
        "\n",
        "x = [1, 2, 3, 4]\n",
        "y = [2, 4, 6, 8]\n",
        "\n",
        "plt.scatter(x, y)\n",
        "plt.title(\"Scatter Plot\")\n",
        "plt.xlabel(\"X\")\n",
        "plt.ylabel(\"Y\")\n",
        "plt.grid(True)\n",
        "plt.show()\n"
      ],
      "metadata": {
        "colab": {
          "base_uri": "https://localhost:8080/",
          "height": 472
        },
        "id": "BmZHH1Q9vE-9",
        "outputId": "1aa36d51-e8ec-4bb2-b56f-efe4e2998cb3"
      },
      "execution_count": 11,
      "outputs": [
        {
          "output_type": "display_data",
          "data": {
            "text/plain": [
              "<Figure size 640x480 with 1 Axes>"
            ],
            "image/png": "[encoded data removed]"
          },
          "metadata": {}
        }
      ]
    },
    {
      "cell_type": "code",
      "source": [
        "#12. Compare Random and Systematic Sampling\n",
        "\n",
        "import pandas as pd\n",
        "\n",
        "data = pd.DataFrame({'ID': range(1, 101)})\n",
        "\n",
        "# Simple random sampling\n",
        "random_sample = data.sample(n=10)\n",
        "\n",
        "# Systematic sampling (every 10th record)\n",
        "systematic_sample = data.iloc[::10]\n",
        "\n",
        "print(\"Random Sample:\\n\", random_sample)\n",
        "print(\"\\nSystematic Sample:\\n\", systematic_sample)\n"
      ],
      "metadata": {
        "colab": {
          "base_uri": "https://localhost:8080/"
        },
        "id": "GGQzNuEnvE8H",
        "outputId": "414bd656-74eb-4559-c2d1-777d56b674bc"
      },
      "execution_count": 12,
      "outputs": [
        {
          "output_type": "stream",
          "name": "stdout",
          "text": [
            "Random Sample:\n",
            "     ID\n",
            "51  52\n",
            "0    1\n",
            "48  49\n",
            "43  44\n",
            "8    9\n",
            "64  65\n",
            "90  91\n",
            "69  70\n",
            "92  93\n",
            "13  14\n",
            "\n",
            "Systematic Sample:\n",
            "     ID\n",
            "0    1\n",
            "10  11\n",
            "20  21\n",
            "30  31\n",
            "40  41\n",
            "50  51\n",
            "60  61\n",
            "70  71\n",
            "80  81\n",
            "90  91\n"
          ]
        }
      ]
    },
    {
      "cell_type": "code",
      "source": [
        "#13. Mean, Median, Mode of Grouped Data\n",
        "\n",
        "import pandas as pd\n",
        "import statistics\n",
        "\n",
        "data = {'Marks': [10, 20, 30, 40, 50], 'Frequency': [2, 3, 5, 2, 1]}\n",
        "df = pd.DataFrame(data)\n",
        "\n",
        "df['Total'] = df['Marks'] * df['Frequency']\n",
        "mean = df['Total'].sum() / df['Frequency'].sum()\n",
        "\n",
        "print(\"Grouped Mean:\", mean)\n"
      ],
      "metadata": {
        "colab": {
          "base_uri": "https://localhost:8080/"
        },
        "id": "g9_vsQ--vE1D",
        "outputId": "3162bfa1-5229-4a25-fcb7-6ae9556f7bbd"
      },
      "execution_count": 13,
      "outputs": [
        {
          "output_type": "stream",
          "name": "stdout",
          "text": [
            "Grouped Mean: 27.692307692307693\n"
          ]
        }
      ]
    },
    {
      "cell_type": "code",
      "source": [
        "#14. Simulate Data and Calculate Central Tendency & Dispersion\n",
        "\n",
        "import numpy as np\n",
        "import statistics\n",
        "\n",
        "data = np.random.normal(loc=50, scale=10, size=100)\n",
        "\n",
        "print(\"Mean:\", statistics.mean(data))\n",
        "print(\"Median:\", statistics.median(data))\n",
        "print(\"Mode:\", statistics.mode(data.round()))\n",
        "print(\"Variance:\", statistics.variance(data))\n",
        "print(\"Standard Deviation:\", statistics.stdev(data))\n"
      ],
      "metadata": {
        "colab": {
          "base_uri": "https://localhost:8080/"
        },
        "id": "tYT1jR4SxS8D",
        "outputId": "d2ae639a-2c1c-4797-a0a2-a5d39918b9cb"
      },
      "execution_count": 14,
      "outputs": [
        {
          "output_type": "stream",
          "name": "stdout",
          "text": [
            "Mean: 48.787231182917026\n",
            "Median: 47.946874748831604\n",
            "Mode: 47.0\n",
            "Variance: 98.91637371257698\n",
            "Standard Deviation: 9.945671104182813\n"
          ]
        }
      ]
    },
    {
      "cell_type": "code",
      "source": [
        "#15. Descriptive Statistics with NumPy/Pandas\n",
        "\n",
        "import pandas as pd\n",
        "\n",
        "data = {'Scores': [45, 67, 89, 34, 76, 90, 55]}\n",
        "df = pd.DataFrame(data)\n",
        "\n",
        "print(df.describe())\n"
      ],
      "metadata": {
        "colab": {
          "base_uri": "https://localhost:8080/"
        },
        "id": "Lvqzbz48xS6H",
        "outputId": "fae49c55-dbe6-4c5d-8022-69c8a315e890"
      },
      "execution_count": 15,
      "outputs": [
        {
          "output_type": "stream",
          "name": "stdout",
          "text": [
            "          Scores\n",
            "count   7.000000\n",
            "mean   65.142857\n",
            "std    21.551710\n",
            "min    34.000000\n",
            "25%    50.000000\n",
            "50%    67.000000\n",
            "75%    82.500000\n",
            "max    90.000000\n"
          ]
        }
      ]
    },
    {
      "cell_type": "code",
      "source": [
        "#16. Boxplot for Outliers\n",
        "\n",
        "import matplotlib.pyplot as plt\n",
        "import seaborn as sns\n",
        "\n",
        "data = [10, 12, 14, 15, 18, 22, 29, 35, 40, 100]  # 100 is outlier\n",
        "sns.boxplot(data=data)\n",
        "plt.title(\"Boxplot for Outliers\")\n",
        "plt.show()\n"
      ],
      "metadata": {
        "colab": {
          "base_uri": "https://localhost:8080/",
          "height": 433
        },
        "id": "p7cblKnVxS3w",
        "outputId": "b0e1afc2-b887-4f48-d68b-c83ac2d472f0"
      },
      "execution_count": 16,
      "outputs": [
        {
          "output_type": "display_data",
          "data": {
            "text/plain": [
              "<Figure size 640x480 with 1 Axes>"
            ],
            "image/png": "[encoded data removed]"
          },
          "metadata": {}
        }
      ]
    },
    {
      "cell_type": "code",
      "source": [
        "#17. Interquartile Range (IQR)\n",
        "\n",
        "import numpy as np\n",
        "\n",
        "data = [10, 15, 14, 18, 21, 25, 30, 35]\n",
        "\n",
        "Q1 = np.percentile(data, 25)\n",
        "Q3 = np.percentile(data, 75)\n",
        "IQR = Q3 - Q1\n",
        "\n",
        "print(\"Interquartile Range (IQR):\", IQR)\n"
      ],
      "metadata": {
        "colab": {
          "base_uri": "https://localhost:8080/"
        },
        "id": "QGC5KgA_xS15",
        "outputId": "dbf802ec-7ca6-458c-b1c1-9f828a8f9351"
      },
      "execution_count": 17,
      "outputs": [
        {
          "output_type": "stream",
          "name": "stdout",
          "text": [
            "Interquartile Range (IQR): 11.5\n"
          ]
        }
      ]
    },
    {
      "cell_type": "code",
      "source": [
        "#18. Z-Score Normalization\n",
        "\n",
        "from scipy.stats import zscore\n",
        "import numpy as np\n",
        "\n",
        "data = np.array([10, 20, 30, 40, 50])\n",
        "z_scores = zscore(data)\n",
        "\n",
        "print(\"Z-Score Normalized Data:\", z_scores)\n"
      ],
      "metadata": {
        "colab": {
          "base_uri": "https://localhost:8080/"
        },
        "id": "B9H52CeyxSzo",
        "outputId": "084f2360-39c9-4a4e-af3a-8e2ba1117633"
      },
      "execution_count": 18,
      "outputs": [
        {
          "output_type": "stream",
          "name": "stdout",
          "text": [
            "Z-Score Normalized Data: [-1.41421356 -0.70710678  0.          0.70710678  1.41421356]\n"
          ]
        }
      ]
    },
    {
      "cell_type": "code",
      "source": [
        "#19. Compare Standard Deviations\n",
        "\n",
        "import statistics\n",
        "\n",
        "a = [10, 20, 30, 40, 50]\n",
        "b = [10, 15, 20, 25, 30]\n",
        "\n",
        "print(\"SD of A:\", statistics.stdev(a))\n",
        "print(\"SD of B:\", statistics.stdev(b))\n"
      ],
      "metadata": {
        "colab": {
          "base_uri": "https://localhost:8080/"
        },
        "id": "8RnMMa08xSxu",
        "outputId": "9fdbc5e4-6857-4c57-9c04-b1b2447fd16f"
      },
      "execution_count": 19,
      "outputs": [
        {
          "output_type": "stream",
          "name": "stdout",
          "text": [
            "SD of A: 15.811388300841896\n",
            "SD of B: 7.905694150420948\n"
          ]
        }
      ]
    },
    {
      "cell_type": "code",
      "source": [
        "#20. Covariance Heatmap\n",
        "\n",
        "import seaborn as sns\n",
        "import pandas as pd\n",
        "import numpy as np\n",
        "\n",
        "df = pd.DataFrame({\n",
        "    'Math': np.random.randint(50, 100, 10),\n",
        "    'Science': np.random.randint(50, 100, 10),\n",
        "    'English': np.random.randint(50, 100, 10)\n",
        "})\n",
        "\n",
        "cov_matrix = df.cov()\n",
        "sns.heatmap(cov_matrix, annot=True)\n",
        "plt.title(\"Covariance Heatmap\")\n",
        "plt.show()\n"
      ],
      "metadata": {
        "colab": {
          "base_uri": "https://localhost:8080/",
          "height": 452
        },
        "id": "HEco-4_pxStm",
        "outputId": "c6c64815-eb1d-46cd-d9d9-dcb21d99a654"
      },
      "execution_count": 20,
      "outputs": [
        {
          "output_type": "display_data",
          "data": {
            "text/plain": [
              "<Figure size 640x480 with 2 Axes>"
            ],
            "image/png": "[encoded data removed]"
          },
          "metadata": {}
        }
      ]
    },
    {
      "cell_type": "code",
      "source": [
        "#21. Correlation Matrix with Seaborn\n",
        "\n",
        "import seaborn as sns\n",
        "import pandas as pd\n",
        "\n",
        "df = pd.DataFrame({\n",
        "    'Height': [150, 160, 170, 180],\n",
        "    'Weight': [50, 60, 70, 80],\n",
        "    'Age': [20, 25, 30, 35]\n",
        "})\n",
        "\n",
        "corr_matrix = df.corr()\n",
        "sns.heatmap(corr_matrix, annot=True, cmap='coolwarm')\n",
        "plt.title(\"Correlation Matrix\")\n",
        "plt.show()\n"
      ],
      "metadata": {
        "colab": {
          "base_uri": "https://localhost:8080/",
          "height": 452
        },
        "id": "WS5n3zSavEyM",
        "outputId": "7608aced-c724-4eb7-cbf5-ded809a46f12"
      },
      "execution_count": 21,
      "outputs": [
        {
          "output_type": "display_data",
          "data": {
            "text/plain": [
              "<Figure size 640x480 with 2 Axes>"
            ],
            "image/png": "[encoded data removed]"
          },
          "metadata": {}
        }
      ]
    },
    {
      "cell_type": "code",
      "source": [
        "#22. Variance & Standard Deviation Again\n",
        "\n",
        "import numpy as np\n",
        "\n",
        "data = np.random.randint(10, 100, 20)\n",
        "\n",
        "print(\"Variance:\", np.var(data))\n",
        "print(\"Standard Deviation:\", np.std(data))\n"
      ],
      "metadata": {
        "colab": {
          "base_uri": "https://localhost:8080/"
        },
        "id": "HwWxxDoOvEvg",
        "outputId": "d57c42bb-7c70-48b1-9e9d-6bb135336d9c"
      },
      "execution_count": 22,
      "outputs": [
        {
          "output_type": "stream",
          "name": "stdout",
          "text": [
            "Variance: 871.1899999999999\n",
            "Standard Deviation: 29.515927903421908\n"
          ]
        }
      ]
    },
    {
      "cell_type": "code",
      "source": [
        "#23. Visualize Skewness & Kurtosis\n",
        "\n",
        "import seaborn as sns\n",
        "from scipy.stats import skew, kurtosis\n",
        "import matplotlib.pyplot as plt\n",
        "import numpy as np\n",
        "\n",
        "data = np.random.normal(loc=0, scale=1, size=1000)\n",
        "\n",
        "sns.histplot(data, kde=True)\n",
        "plt.title(\"Distribution with Skewness and Kurtosis\")\n",
        "plt.show()\n",
        "\n",
        "print(\"Skewness:\", skew(data))\n",
        "print(\"Kurtosis:\", kurtosis(data))\n"
      ],
      "metadata": {
        "colab": {
          "base_uri": "https://localhost:8080/",
          "height": 488
        },
        "id": "UHoMiB2YvErS",
        "outputId": "e5af02ae-bd52-412a-f16c-a4064a1343bb"
      },
      "execution_count": 23,
      "outputs": [
        {
          "output_type": "display_data",
          "data": {
            "text/plain": [
              "<Figure size 640x480 with 1 Axes>"
            ],
            "image/png": "[encoded data removed]"
          },
          "metadata": {}
        },
        {
          "output_type": "stream",
          "name": "stdout",
          "text": [
            "Skewness: 0.06507699109512703\n",
            "Kurtosis: -0.2018527335348037\n"
          ]
        }
      ]
    },
    {
      "cell_type": "code",
      "source": [
        "#24. Pearson & Spearman Correlation\n",
        "\n",
        "from scipy.stats import pearsonr, spearmanr\n",
        "\n",
        "x = [1, 2, 3, 4, 5]\n",
        "y = [2, 4, 6, 8, 10]\n",
        "\n",
        "pearson_corr, _ = pearsonr(x, y)\n",
        "spearman_corr, _ = spearmanr(x, y)\n",
        "\n",
        "print(\"Pearson Correlation:\", pearson_corr)\n",
        "print(\"Spearman Correlation:\", spearman_corr)\n"
      ],
      "metadata": {
        "colab": {
          "base_uri": "https://localhost:8080/"
        },
        "id": "TKWY1ZQOvEeU",
        "outputId": "ed999d00-1b78-4475-dedb-489d3875dacd"
      },
      "execution_count": 24,
      "outputs": [
        {
          "output_type": "stream",
          "name": "stdout",
          "text": [
            "Pearson Correlation: 1.0\n",
            "Spearman Correlation: 0.9999999999999999\n"
          ]
        }
      ]
    }
  ]
}